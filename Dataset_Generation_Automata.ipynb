{
 "cells": [
  {
   "cell_type": "code",
   "execution_count": 35,
   "id": "3a17dfac",
   "metadata": {},
   "outputs": [],
   "source": [
    "import numpy as np\n",
    "import random\n",
    "import os"
   ]
  },
  {
   "cell_type": "code",
   "execution_count": 36,
   "id": "d9ec91a6",
   "metadata": {},
   "outputs": [],
   "source": [
    "binary_string=\"100100001111100100110111110011101010110100\""
   ]
  },
  {
   "cell_type": "code",
   "execution_count": 37,
   "id": "880400c2",
   "metadata": {},
   "outputs": [
    {
     "data": {
      "text/plain": [
       "42"
      ]
     },
     "execution_count": 37,
     "metadata": {},
     "output_type": "execute_result"
    }
   ],
   "source": [
    "# n_nodes range from 4 to 22\n",
    "f=[]\n",
    "len(binary_string)"
   ]
  },
  {
   "cell_type": "code",
   "execution_count": 38,
   "id": "ae8da2ed",
   "metadata": {},
   "outputs": [],
   "source": [
    "def make_graph():\n",
    "    n=random.randint(4,22)\n",
    "    adj={}\n",
    "    for i in range(1,n+1):\n",
    "        q=random.randint(1,n)\n",
    "        adj[(i,0)]=q\n",
    "        q=random.randint(1,n)\n",
    "        adj[(i,1)]=q\n",
    "    x=np.zeros((n,2))\n",
    "    start = random.randint(1,n)\n",
    "    #r=random.sample(range(1,(int)((n+1)/2)+1),1)\n",
    "    r=(int)(((n+2)/3)+1)\n",
    "    r=random.randrange(1,r)\n",
    "    l=random.sample(range(1, n+1), r)\n",
    "    x[start-1][0]=0\n",
    "    x[start-1][1]=1\n",
    "    for i in l:\n",
    "        if i==start:\n",
    "            x[i-1][0]=1\n",
    "            x[i-1][1]=0\n",
    "            continue\n",
    "        x[i-1][0]=1\n",
    "        x[i-1][1]=1\n",
    "    # x is ready\n",
    "    a=np.zeros((n,n))\n",
    "    for i in range(1,n+1):\n",
    "        a[i-1][adj[(i,0)]-1]=1\n",
    "        a[i-1][adj[(i,1)]-1]=1\n",
    "    #a is ready\n",
    "    current=start\n",
    "    check=[]\n",
    "    check.append(current)\n",
    "    for w in binary_string:\n",
    "        if w=='0':\n",
    "            r=0\n",
    "        else:\n",
    "            r=1\n",
    "        current=adj[(current,r)]\n",
    "        check.append(current)\n",
    "        \n",
    "    e=np.zeros((n,n,2))\n",
    "    for i in range(1,n+1):\n",
    "        e[i-1][adj[(i,0)]-1][0]=1\n",
    "        e[i-1][adj[(i,0)]-1][1]=0\n",
    "        e[i-1][adj[(i,1)]-1][0]=0\n",
    "        e[i-1][adj[(i,1)]-1][1]=1\n",
    "            \n",
    "    ok=0\n",
    "    for zz in check:\n",
    "        if zz in l:\n",
    "            ok=1\n",
    "            break\n",
    "    if ok==0:\n",
    "        dd=random.choice(check)\n",
    "        x[dd-1][0]=1\n",
    "        x[dd-1][1]=1\n",
    "    y=[]\n",
    "    y.append(start)\n",
    "    current=start\n",
    "    for w in binary_string:\n",
    "        if w=='0':\n",
    "            r=0\n",
    "        else:\n",
    "            r=1\n",
    "        current=adj[(current,r)]\n",
    "        y.append(current)\n",
    "    if current in l:\n",
    "        y.append(100)\n",
    "    else:\n",
    "        y.append(0)\n",
    "    y=np.array(y)\n",
    "    return x,a,e,y"
   ]
  },
  {
   "cell_type": "code",
   "execution_count": 39,
   "id": "5e4e365a",
   "metadata": {},
   "outputs": [],
   "source": [
    "x,a,e,y=make_graph()"
   ]
  },
  {
   "cell_type": "code",
   "execution_count": 40,
   "id": "cb2a59c2",
   "metadata": {},
   "outputs": [
    {
     "data": {
      "text/plain": [
       "42"
      ]
     },
     "execution_count": 40,
     "metadata": {},
     "output_type": "execute_result"
    }
   ],
   "source": [
    "len(binary_string)"
   ]
  },
  {
   "cell_type": "code",
   "execution_count": 41,
   "id": "66ee6fe1",
   "metadata": {},
   "outputs": [
    {
     "data": {
      "text/plain": [
       "array([[1., 0.],\n",
       "       [0., 0.],\n",
       "       [0., 0.],\n",
       "       [1., 1.],\n",
       "       [0., 0.],\n",
       "       [1., 1.],\n",
       "       [0., 0.]])"
      ]
     },
     "execution_count": 41,
     "metadata": {},
     "output_type": "execute_result"
    }
   ],
   "source": [
    "x"
   ]
  },
  {
   "cell_type": "code",
   "execution_count": 27,
   "id": "14ec0464",
   "metadata": {},
   "outputs": [
    {
     "data": {
      "text/plain": [
       "array([[0., 1., 0., 0., 0., 0., 0., 0., 1.],\n",
       "       [0., 0., 1., 0., 0., 0., 1., 0., 0.],\n",
       "       [0., 0., 0., 0., 0., 0., 1., 1., 0.],\n",
       "       [0., 0., 1., 0., 0., 0., 0., 0., 1.],\n",
       "       [0., 1., 0., 0., 0., 0., 0., 1., 0.],\n",
       "       [0., 1., 1., 0., 0., 0., 0., 0., 0.],\n",
       "       [1., 0., 0., 0., 0., 0., 0., 0., 1.],\n",
       "       [1., 0., 0., 0., 0., 0., 0., 0., 0.],\n",
       "       [1., 0., 0., 0., 0., 0., 1., 0., 0.]])"
      ]
     },
     "execution_count": 27,
     "metadata": {},
     "output_type": "execute_result"
    }
   ],
   "source": [
    "a"
   ]
  },
  {
   "cell_type": "code",
   "execution_count": 28,
   "id": "f1ea6a33",
   "metadata": {},
   "outputs": [
    {
     "data": {
      "text/plain": [
       "array([1, 9, 7, 1, 9, 7, 1, 2, 7, 9, 1, 9, 1, 9, 7, 1, 9, 7, 1, 9, 1, 2,\n",
       "       3, 8, 1, 9, 1, 2, 7, 9, 1, 9, 7, 9, 7, 9, 7, 9, 1, 2, 3, 7, 1, 0])"
      ]
     },
     "execution_count": 28,
     "metadata": {},
     "output_type": "execute_result"
    }
   ],
   "source": [
    "y"
   ]
  },
  {
   "cell_type": "code",
   "execution_count": 29,
   "id": "981a0934",
   "metadata": {},
   "outputs": [
    {
     "data": {
      "text/plain": [
       "array([[[0., 0.],\n",
       "        [1., 0.],\n",
       "        [0., 0.],\n",
       "        [0., 0.],\n",
       "        [0., 0.],\n",
       "        [0., 0.],\n",
       "        [0., 0.],\n",
       "        [0., 0.],\n",
       "        [0., 1.]],\n",
       "\n",
       "       [[0., 0.],\n",
       "        [0., 0.],\n",
       "        [0., 1.],\n",
       "        [0., 0.],\n",
       "        [0., 0.],\n",
       "        [0., 0.],\n",
       "        [1., 0.],\n",
       "        [0., 0.],\n",
       "        [0., 0.]],\n",
       "\n",
       "       [[0., 0.],\n",
       "        [0., 0.],\n",
       "        [0., 0.],\n",
       "        [0., 0.],\n",
       "        [0., 0.],\n",
       "        [0., 0.],\n",
       "        [1., 0.],\n",
       "        [0., 1.],\n",
       "        [0., 0.]],\n",
       "\n",
       "       [[0., 0.],\n",
       "        [0., 0.],\n",
       "        [1., 0.],\n",
       "        [0., 0.],\n",
       "        [0., 0.],\n",
       "        [0., 0.],\n",
       "        [0., 0.],\n",
       "        [0., 0.],\n",
       "        [0., 1.]],\n",
       "\n",
       "       [[0., 0.],\n",
       "        [1., 0.],\n",
       "        [0., 0.],\n",
       "        [0., 0.],\n",
       "        [0., 0.],\n",
       "        [0., 0.],\n",
       "        [0., 0.],\n",
       "        [0., 1.],\n",
       "        [0., 0.]],\n",
       "\n",
       "       [[0., 0.],\n",
       "        [1., 0.],\n",
       "        [0., 1.],\n",
       "        [0., 0.],\n",
       "        [0., 0.],\n",
       "        [0., 0.],\n",
       "        [0., 0.],\n",
       "        [0., 0.],\n",
       "        [0., 0.]],\n",
       "\n",
       "       [[1., 0.],\n",
       "        [0., 0.],\n",
       "        [0., 0.],\n",
       "        [0., 0.],\n",
       "        [0., 0.],\n",
       "        [0., 0.],\n",
       "        [0., 0.],\n",
       "        [0., 0.],\n",
       "        [0., 1.]],\n",
       "\n",
       "       [[0., 1.],\n",
       "        [0., 0.],\n",
       "        [0., 0.],\n",
       "        [0., 0.],\n",
       "        [0., 0.],\n",
       "        [0., 0.],\n",
       "        [0., 0.],\n",
       "        [0., 0.],\n",
       "        [0., 0.]],\n",
       "\n",
       "       [[0., 1.],\n",
       "        [0., 0.],\n",
       "        [0., 0.],\n",
       "        [0., 0.],\n",
       "        [0., 0.],\n",
       "        [0., 0.],\n",
       "        [1., 0.],\n",
       "        [0., 0.],\n",
       "        [0., 0.]]])"
      ]
     },
     "execution_count": 29,
     "metadata": {},
     "output_type": "execute_result"
    }
   ],
   "source": [
    "e"
   ]
  },
  {
   "cell_type": "code",
   "execution_count": 30,
   "id": "8d7cbadb",
   "metadata": {},
   "outputs": [
    {
     "data": {
      "text/plain": [
       "9"
      ]
     },
     "execution_count": 30,
     "metadata": {},
     "output_type": "execute_result"
    }
   ],
   "source": [
    "a.shape[0]"
   ]
  },
  {
   "cell_type": "code",
   "execution_count": 31,
   "id": "42459f6c",
   "metadata": {},
   "outputs": [],
   "source": [
    "path=\"/Users/harshit/Projects/YALE-RESEARCH-WORK/dataset_automata\""
   ]
  },
  {
   "cell_type": "code",
   "execution_count": 33,
   "id": "06ab8f3b",
   "metadata": {},
   "outputs": [
    {
     "name": "stdout",
     "output_type": "stream",
     "text": [
      "248\n"
     ]
    }
   ],
   "source": [
    "count=0\n",
    "for i in range(0,1000):\n",
    "    x,a,e,y=make_graph()\n",
    "    if y[-1]==100:\n",
    "        count=count+1\n",
    "\n",
    "print(count)"
   ]
  },
  {
   "cell_type": "code",
   "execution_count": 34,
   "id": "7223f753",
   "metadata": {},
   "outputs": [],
   "source": [
    "for i in range(0,11000):        \n",
    "    filename = os.path.join(path, f'graph_{i}')\n",
    "    x,a,e,y=make_graph()\n",
    "    np.savez(filename, x=x, a=a, e=e, y=y)"
   ]
  },
  {
   "cell_type": "code",
   "execution_count": 68,
   "id": "447b6ecc",
   "metadata": {},
   "outputs": [],
   "source": [
    "path=\"/Users/harshit/Projects/YALE-RESEARCH-WORK/dataset_automata_test\""
   ]
  },
  {
   "cell_type": "code",
   "execution_count": 69,
   "id": "aa0b5f42",
   "metadata": {},
   "outputs": [],
   "source": [
    "for i in range(1000):\n",
    "    filename = os.path.join(path, f'graph_{i}')\n",
    "    x,a,e,y=make_graph()\n",
    "    np.savez(filename, x=x, a=a, e=e, y=y)"
   ]
  },
  {
   "cell_type": "code",
   "execution_count": null,
   "id": "a4a552b9",
   "metadata": {},
   "outputs": [],
   "source": []
  }
 ],
 "metadata": {
  "kernelspec": {
   "display_name": "Python 3 (ipykernel)",
   "language": "python",
   "name": "python3"
  },
  "language_info": {
   "codemirror_mode": {
    "name": "ipython",
    "version": 3
   },
   "file_extension": ".py",
   "mimetype": "text/x-python",
   "name": "python",
   "nbconvert_exporter": "python",
   "pygments_lexer": "ipython3",
   "version": "3.8.15"
  }
 },
 "nbformat": 4,
 "nbformat_minor": 5
}
