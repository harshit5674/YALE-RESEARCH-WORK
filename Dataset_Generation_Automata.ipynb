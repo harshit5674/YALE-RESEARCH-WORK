{
 "cells": [
  {
   "cell_type": "code",
   "execution_count": 74,
   "id": "1d8e093b",
   "metadata": {},
   "outputs": [],
   "source": [
    "import numpy as np\n",
    "import random\n",
    "import os"
   ]
  },
  {
   "cell_type": "code",
   "execution_count": 75,
   "id": "3a0edd25",
   "metadata": {},
   "outputs": [],
   "source": [
    "binary_string=\"001110110101010101111000001010101110100110001001100100111100100001011010000010001101111010100001011011110001010101011111100100110111000011010001111000011001000000100000100\""
   ]
  },
  {
   "cell_type": "code",
   "execution_count": 76,
   "id": "c0563db5",
   "metadata": {},
   "outputs": [],
   "source": [
    "# n_nodes range from 4 to 42\n",
    "f=[]"
   ]
  },
  {
   "cell_type": "code",
   "execution_count": 101,
   "id": "819eb583",
   "metadata": {},
   "outputs": [],
   "source": [
    "def make_graph():\n",
    "    n=random.randint(4,42)\n",
    "    adj={}\n",
    "    for i in range(1,n+1):\n",
    "        q=random.randint(1,n)\n",
    "        adj[(i,0)]=q\n",
    "        q=random.randint(1,n)\n",
    "        adj[(i,1)]=q\n",
    "    x=np.zeros((n,2))\n",
    "    start = random.randint(1,n)\n",
    "    r=(int)((n+2)/3)\n",
    "    l=random.sample(range(1, n+1), r)\n",
    "    x[start-1][0]=0\n",
    "    x[start-1][1]=1\n",
    "    for i in l:\n",
    "        if i==start:\n",
    "            x[i-1][0]=1\n",
    "            x[i-1][1]=0\n",
    "            continue\n",
    "        x[i-1][0]=1\n",
    "        x[i-1][1]=1\n",
    "    # x is ready\n",
    "    a=np.zeros((n,n))\n",
    "    for i in range(1,n+1):\n",
    "        a[i-1][adj[(i,0)]-1]=1\n",
    "        a[i-1][adj[(i,1)]-1]=2\n",
    "    #a is ready\n",
    "    current=start\n",
    "    check=[]\n",
    "    check.append(current)\n",
    "    for w in binary_string:\n",
    "        if w=='0':\n",
    "            r=0\n",
    "        else:\n",
    "            r=1\n",
    "        current=adj[(current,r)]\n",
    "        check.append(current)\n",
    "    ok=0\n",
    "    for zz in check:\n",
    "        if zz in l:\n",
    "            ok=1\n",
    "            break\n",
    "    if ok==0:\n",
    "        dd=random.choice(check)\n",
    "        x[dd-1][0]=1\n",
    "        x[dd-1][1]=1\n",
    "    y=[]\n",
    "    y.append(start)\n",
    "    current=start\n",
    "    for w in binary_string:\n",
    "        if w=='0':\n",
    "            r=0\n",
    "        else:\n",
    "            r=1\n",
    "        current=adj[(current,r)]\n",
    "        y.append(current)\n",
    "    if current in l:\n",
    "        y.append(1)\n",
    "    else:\n",
    "        y.append(0)\n",
    "    y=np.array(y)\n",
    "    return x,a,y"
   ]
  },
  {
   "cell_type": "code",
   "execution_count": 102,
   "id": "95a1e69f",
   "metadata": {},
   "outputs": [],
   "source": [
    "x,a,y=make_graph()"
   ]
  },
  {
   "cell_type": "code",
   "execution_count": 103,
   "id": "26f8468c",
   "metadata": {},
   "outputs": [
    {
     "data": {
      "text/plain": [
       "171"
      ]
     },
     "execution_count": 103,
     "metadata": {},
     "output_type": "execute_result"
    }
   ],
   "source": [
    "len(binary_string)"
   ]
  },
  {
   "cell_type": "code",
   "execution_count": 104,
   "id": "0974dcec",
   "metadata": {},
   "outputs": [
    {
     "data": {
      "text/plain": [
       "array([[0., 0.],\n",
       "       [1., 0.],\n",
       "       [0., 0.],\n",
       "       [1., 1.],\n",
       "       [0., 0.]])"
      ]
     },
     "execution_count": 104,
     "metadata": {},
     "output_type": "execute_result"
    }
   ],
   "source": [
    "x"
   ]
  },
  {
   "cell_type": "code",
   "execution_count": 105,
   "id": "abf72255",
   "metadata": {},
   "outputs": [
    {
     "data": {
      "text/plain": [
       "array([[0., 0., 2., 0., 0.],\n",
       "       [0., 0., 0., 1., 2.],\n",
       "       [0., 2., 0., 1., 0.],\n",
       "       [0., 0., 2., 0., 1.],\n",
       "       [0., 0., 0., 2., 0.]])"
      ]
     },
     "execution_count": 105,
     "metadata": {},
     "output_type": "execute_result"
    }
   ],
   "source": [
    "a"
   ]
  },
  {
   "cell_type": "code",
   "execution_count": 95,
   "id": "a4766e8f",
   "metadata": {},
   "outputs": [
    {
     "data": {
      "text/plain": [
       "array([ 2, 19, 28, 19, 17,  9, 20, 14,  2, 19, 17, 30,  6,  3, 21,  7, 17,\n",
       "       30,  6,  1, 22, 15, 19, 28, 26, 25, 13, 17, 30,  6,  3, 21,  7, 17,\n",
       "        9, 30, 21,  9, 20, 10, 21,  9, 20, 10, 17,  9, 20, 10, 21,  9, 20,\n",
       "       10, 21,  7, 18, 20, 14,  2, 25, 13,  9, 30, 21,  7, 18, 20, 14, 22,\n",
       "       15,  2, 19, 17, 30, 21,  7, 18, 20, 14, 22, 15, 19, 17,  9, 20, 14,\n",
       "        2, 25, 17, 30,  6,  3, 21,  7, 18, 20, 10, 21,  7, 17,  9, 20, 14,\n",
       "        2, 25, 17, 30, 21,  7, 17, 30,  6,  3, 21,  7, 17, 30,  6,  1, 22,\n",
       "       15,  2, 25, 13,  9, 30, 21,  7, 17,  9, 20, 14,  2, 25, 13,  9, 20,\n",
       "       10, 21,  9, 20, 14, 22, 15, 19, 17,  9, 30,  6,  3, 14, 22, 15,  2,\n",
       "       25, 13,  9, 30, 21,  7, 18, 20, 10, 17,  9, 20, 10, 17, 30, 21,  9,\n",
       "       20, 10,  1])"
      ]
     },
     "execution_count": 95,
     "metadata": {},
     "output_type": "execute_result"
    }
   ],
   "source": [
    "y"
   ]
  },
  {
   "cell_type": "code",
   "execution_count": 96,
   "id": "0bba2082",
   "metadata": {},
   "outputs": [],
   "source": [
    "path=\"/Users/harshit/Projects/YALE-RESEARCH-WORK/dataset_automata\""
   ]
  },
  {
   "cell_type": "code",
   "execution_count": 100,
   "id": "2fb18520",
   "metadata": {},
   "outputs": [
    {
     "name": "stdout",
     "output_type": "stream",
     "text": [
      "208\n"
     ]
    }
   ],
   "source": [
    "count=0\n",
    "for i in range(0,1000):\n",
    "    x,a,y=make_graph()\n",
    "    if y[-1]==1:\n",
    "        count=count+1\n",
    "\n",
    "print(count)"
   ]
  },
  {
   "cell_type": "code",
   "execution_count": 72,
   "id": "41741997",
   "metadata": {},
   "outputs": [],
   "source": [
    "for i in range(0,1000):        \n",
    "    filename = os.path.join(path, f'graph_{i}')\n",
    "    x,a,y=make_graph()\n",
    "    np.savez(filename, x=x, a=a, y=y)"
   ]
  },
  {
   "cell_type": "code",
   "execution_count": null,
   "id": "ecabf58a",
   "metadata": {},
   "outputs": [],
   "source": []
  }
 ],
 "metadata": {
  "kernelspec": {
   "display_name": "Python 3 (ipykernel)",
   "language": "python",
   "name": "python3"
  },
  "language_info": {
   "codemirror_mode": {
    "name": "ipython",
    "version": 3
   },
   "file_extension": ".py",
   "mimetype": "text/x-python",
   "name": "python",
   "nbconvert_exporter": "python",
   "pygments_lexer": "ipython3",
   "version": "3.8.15"
  }
 },
 "nbformat": 4,
 "nbformat_minor": 5
}
