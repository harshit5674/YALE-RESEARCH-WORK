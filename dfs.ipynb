{
 "cells": [
  {
   "cell_type": "code",
   "execution_count": 3,
   "id": "b8297c67",
   "metadata": {},
   "outputs": [],
   "source": [
    "adj={1:[]}"
   ]
  },
  {
   "cell_type": "markdown",
   "id": "49d818ef",
   "metadata": {},
   "source": [
    "           1\n",
    "          2  3\n",
    "         4"
   ]
  },
  {
   "cell_type": "code",
   "execution_count": 4,
   "id": "48d5e068",
   "metadata": {},
   "outputs": [],
   "source": [
    "adj[1].append(2)"
   ]
  },
  {
   "cell_type": "code",
   "execution_count": 5,
   "id": "25c7829c",
   "metadata": {},
   "outputs": [],
   "source": [
    "adj[1].append(3)"
   ]
  },
  {
   "cell_type": "code",
   "execution_count": 11,
   "id": "288f2899",
   "metadata": {},
   "outputs": [],
   "source": [
    "adj[2]=[]"
   ]
  },
  {
   "cell_type": "code",
   "execution_count": 12,
   "id": "3e4b7070",
   "metadata": {},
   "outputs": [],
   "source": [
    "adj[3]=[]"
   ]
  },
  {
   "cell_type": "code",
   "execution_count": 13,
   "id": "8833aafd",
   "metadata": {},
   "outputs": [],
   "source": [
    "adj[4]=[]"
   ]
  },
  {
   "cell_type": "code",
   "execution_count": 30,
   "id": "a6ca2f0b",
   "metadata": {},
   "outputs": [],
   "source": [
    "adj[2].append(4)\n",
    "visited=[0,0,0,0,0,0]\n",
    "for i in range(0,6):\n",
    "    visited[i]=0"
   ]
  },
  {
   "cell_type": "code",
   "execution_count": 31,
   "id": "f4ddb28b",
   "metadata": {},
   "outputs": [],
   "source": [
    "def dfs(s):\n",
    "    if(visited[s]==1):\n",
    "        return  \n",
    "    visited[s]=1\n",
    "    print(s)\n",
    "    for i in adj[s]:\n",
    "        dfs(i)"
   ]
  },
  {
   "cell_type": "code",
   "execution_count": 32,
   "id": "12ec6a88",
   "metadata": {},
   "outputs": [
    {
     "name": "stdout",
     "output_type": "stream",
     "text": [
      "1\n",
      "2\n",
      "4\n",
      "3\n"
     ]
    }
   ],
   "source": [
    "dfs(1)"
   ]
  },
  {
   "cell_type": "code",
   "execution_count": null,
   "id": "08421d56",
   "metadata": {},
   "outputs": [],
   "source": []
  },
  {
   "cell_type": "code",
   "execution_count": null,
   "id": "64af6aa2",
   "metadata": {},
   "outputs": [],
   "source": []
  }
 ],
 "metadata": {
  "kernelspec": {
   "display_name": "Python 3 (ipykernel)",
   "language": "python",
   "name": "python3"
  },
  "language_info": {
   "codemirror_mode": {
    "name": "ipython",
    "version": 3
   },
   "file_extension": ".py",
   "mimetype": "text/x-python",
   "name": "python",
   "nbconvert_exporter": "python",
   "pygments_lexer": "ipython3",
   "version": "3.8.15"
  }
 },
 "nbformat": 4,
 "nbformat_minor": 5
}
